{
  "nbformat": 4,
  "nbformat_minor": 0,
  "metadata": {
    "colab": {
      "provenance": []
    },
    "kernelspec": {
      "name": "python3",
      "display_name": "Python 3"
    },
    "language_info": {
      "name": "python"
    }
  },
  "cells": [
    {
      "cell_type": "markdown",
      "source": [
        "##**Objective: Predict Sales and ratings based on item and outlet features.**"
      ],
      "metadata": {
        "id": "UUeazTzMB93q"
      }
    },
    {
      "cell_type": "markdown",
      "source": [
        "###**Data Loading and Inspection**"
      ],
      "metadata": {
        "id": "cNAy0W5M3Xb7"
      }
    },
    {
      "cell_type": "code",
      "source": [
        "import pandas as pd\n",
        "import warnings\n",
        "warnings.filterwarnings('ignore')\n",
        "df = pd.read_csv(\"/content/BlinkIT Grocery Data.csv\")\n",
        "print(df.head(5))\n",
        "print(df.dtypes)\n",
        "print(df.isnull().sum())"
      ],
      "metadata": {
        "colab": {
          "base_uri": "https://localhost:8080/"
        },
        "id": "H55ngK3p3YFV",
        "outputId": "561cac91-e994-4fd7-bc61-135daebeece4"
      },
      "execution_count": 25,
      "outputs": [
        {
          "output_type": "stream",
          "name": "stdout",
          "text": [
            "  Item Fat Content Item Identifier              Item Type  \\\n",
            "0          Regular           FDX32  Fruits and Vegetables   \n",
            "1          Low Fat           NCB42     Health and Hygiene   \n",
            "2          Regular           FDR28           Frozen Foods   \n",
            "3          Regular           FDL50                 Canned   \n",
            "4          Low Fat           DRI25            Soft Drinks   \n",
            "\n",
            "   Outlet Establishment Year Outlet Identifier Outlet Location Type  \\\n",
            "0                       2012            OUT049               Tier 1   \n",
            "1                       2022            OUT018               Tier 3   \n",
            "2                       2016            OUT046               Tier 1   \n",
            "3                       2014            OUT013               Tier 3   \n",
            "4                       2015            OUT045               Tier 2   \n",
            "\n",
            "  Outlet Size        Outlet Type  Item Visibility  Item Weight     Sales  \\\n",
            "0      Medium  Supermarket Type1         0.100014        15.10  145.4786   \n",
            "1      Medium  Supermarket Type2         0.008596        11.80  115.3492   \n",
            "2       Small  Supermarket Type1         0.025896        13.85  165.0210   \n",
            "3        High  Supermarket Type1         0.042278        12.15  126.5046   \n",
            "4       Small  Supermarket Type1         0.033970        19.60   55.1614   \n",
            "\n",
            "   Rating  \n",
            "0     5.0  \n",
            "1     5.0  \n",
            "2     5.0  \n",
            "3     5.0  \n",
            "4     5.0  \n",
            "Item Fat Content              object\n",
            "Item Identifier               object\n",
            "Item Type                     object\n",
            "Outlet Establishment Year      int64\n",
            "Outlet Identifier             object\n",
            "Outlet Location Type          object\n",
            "Outlet Size                   object\n",
            "Outlet Type                   object\n",
            "Item Visibility              float64\n",
            "Item Weight                  float64\n",
            "Sales                        float64\n",
            "Rating                       float64\n",
            "dtype: object\n",
            "Item Fat Content                0\n",
            "Item Identifier                 0\n",
            "Item Type                       0\n",
            "Outlet Establishment Year       0\n",
            "Outlet Identifier               0\n",
            "Outlet Location Type            0\n",
            "Outlet Size                     0\n",
            "Outlet Type                     0\n",
            "Item Visibility                 0\n",
            "Item Weight                  1463\n",
            "Sales                           0\n",
            "Rating                          0\n",
            "dtype: int64\n"
          ]
        }
      ]
    },
    {
      "cell_type": "markdown",
      "source": [
        "##**1. Data Cleaning and Preparation**"
      ],
      "metadata": {
        "id": "Wi6jOa3O3F7N"
      }
    },
    {
      "cell_type": "code",
      "execution_count": 19,
      "metadata": {
        "id": "t5kTulD5xDmu"
      },
      "outputs": [],
      "source": [
        "## Clean the data\n",
        "df['Item Fat Content'] = df['Item Fat Content'].replace({'LF': 'Low Fat',\n",
        "                                                                                      'low fat': 'Low Fat',\n",
        "                                                                                       'reg': 'Regular'})\n",
        "\n",
        "# Convert numeric columns (Safe conversion)\n",
        "numeric_cols = ['Item Weight', 'Item Visibility', 'Sales', 'Rating']\n",
        "df[numeric_cols] = df[numeric_cols].apply(pd.to_numeric, errors = 'coerce')\n",
        "\n",
        "# Fill missing values\n",
        "df['Item Weight'].fillna(df['Item Weight'].median(), inplace = True)\n",
        "df['Item Visibility'].fillna(df['Item Visibility'].mean(), inplace = True)\n",
        "\n",
        "# Feature engineering\n",
        "df['Outlet Age'] = 2025 - df['Outlet Establishment Year']"
      ]
    },
    {
      "cell_type": "markdown",
      "source": [
        "###**2. Categorical Data Processing**"
      ],
      "metadata": {
        "id": "AOYpmVxx8pBg"
      }
    },
    {
      "cell_type": "code",
      "source": [
        "import pandas as pd\n",
        "from sklearn.preprocessing import OneHotEncoder\n",
        "\n",
        "# 1. Verify your ACTUAL column names\n",
        "print(\"Actual columns in your data:\")\n",
        "print(df.columns.tolist())  # This will show exact names from your data\n",
        "\n",
        "# 2. Use EXACT column names from your data (no underscores)\n",
        "cat_cols = ['Item Fat Content', 'Item Type', 'Outlet Location Type', 'Outlet Type']\n",
        "num_cols = ['Item Weight', 'Item Visibility', 'Outlet Establishment Year', 'Sales', 'Rating']\n",
        "\n",
        "# 3. One-hot encoding\n",
        "encoder = OneHotEncoder(drop='first', sparse_output=False)\n",
        "encoded_cols = encoder.fit_transform(df[cat_cols])  # Use exact categorical columns\n",
        "\n",
        "# 4. Create encoded DataFrame\n",
        "encoded_df = pd.DataFrame(\n",
        "    encoded_cols,\n",
        "    columns=encoder.get_feature_names_out(cat_cols)\n",
        ")\n",
        "\n",
        "# 5. Combine with numerical features\n",
        "final_df = pd.concat([\n",
        "    df[num_cols],  # Use exact numerical column names\n",
        "    encoded_df\n",
        "], axis=1)\n",
        "\n",
        "print(\"\\nSuccessfully created final DataFrame!\")"
      ],
      "metadata": {
        "colab": {
          "base_uri": "https://localhost:8080/"
        },
        "id": "PMcFAdbV8kcm",
        "outputId": "e2ccab66-4a50-4afc-8ac0-a76bb669223b"
      },
      "execution_count": 20,
      "outputs": [
        {
          "output_type": "stream",
          "name": "stdout",
          "text": [
            "Actual columns in your data:\n",
            "['Item Fat Content', 'Item Identifier', 'Item Type', 'Outlet Establishment Year', 'Outlet Identifier', 'Outlet Location Type', 'Outlet Size', 'Outlet Type', 'Item Visibility', 'Item Weight', 'Sales', 'Rating', 'Outlet Age']\n",
            "\n",
            "Successfully created final DataFrame!\n"
          ]
        }
      ]
    },
    {
      "cell_type": "markdown",
      "source": [
        "###**3. Sales Prediction (Regression)**"
      ],
      "metadata": {
        "id": "fSnLDO_l8YJA"
      }
    },
    {
      "cell_type": "markdown",
      "source": [
        "- Predict continuous sales values using item/outlet features.\n",
        "\n",
        "- Random Forest handles non-linear relationships well.\n",
        "\n",
        "**Insight** : Identified key drivers of sales (e.g., Outlet Type, Item Visibility)."
      ],
      "metadata": {
        "id": "t25f50iFC5RE"
      }
    },
    {
      "cell_type": "code",
      "source": [
        "from sklearn.ensemble import RandomForestRegressor\n",
        "from sklearn.model_selection import train_test_split\n",
        "from sklearn.metrics import mean_squared_error\n",
        "import math\n",
        "# Prepare data\n",
        "X = final_df.drop(['Sales', 'Rating'], axis=1)\n",
        "y = final_df['Sales']\n",
        "\n",
        "# Split data\n",
        "X_train, X_test, y_train, y_test = train_test_split(X, y, test_size=0.2, random_state=42)\n",
        "\n",
        "# Train model\n",
        "model = RandomForestRegressor(n_estimators=100, random_state=42)\n",
        "model.fit(X_train, y_train)\n",
        "\n",
        "# Evaluate\n",
        "predictions = model.predict(X_test)\n",
        "mse = mean_squared_error(y_test, predictions)\n",
        "rmse = math.sqrt(mse)\n",
        "print(f\"\\nSales Prediction RMSE: {rmse:.2f}\")"
      ],
      "metadata": {
        "colab": {
          "base_uri": "https://localhost:8080/"
        },
        "id": "vk16zjv88cAg",
        "outputId": "4cdbdd43-b98c-4e68-f9f6-fb14b2155ecd"
      },
      "execution_count": 21,
      "outputs": [
        {
          "output_type": "stream",
          "name": "stdout",
          "text": [
            "\n",
            "Sales Prediction RMSE: 40.54\n"
          ]
        }
      ]
    },
    {
      "cell_type": "markdown",
      "source": [
        "###**4. Rating Prediction (Classification)**"
      ],
      "metadata": {
        "id": "jfjqBJyN-7rm"
      }
    },
    {
      "cell_type": "markdown",
      "source": [
        "- Predict discrete rating categories (1-5 stars).\n",
        "\n",
        "- Rounding continuous ratings makes them classifier-compatible.\n",
        "Insight: Outlet age and location type significantly impact ratings."
      ],
      "metadata": {
        "id": "3Lzl-VcGDIfT"
      }
    },
    {
      "cell_type": "code",
      "source": [
        "from sklearn.ensemble import RandomForestClassifier\n",
        "from sklearn.metrics import accuracy_score\n",
        "\n",
        "# Prepare data\n",
        "y_rating = final_df['Rating'].round().astype(int) -1\n",
        "\n",
        "# Split data\n",
        "X_train_r, X_test_r, y_train_r, y_test_r = train_test_split(X, y_rating, test_size=0.2, random_state=42)\n",
        "\n",
        "# Train model\n",
        "clf = RandomForestClassifier(n_estimators=100, random_state=42)\n",
        "clf.fit(X_train_r, y_train_r)\n",
        "\n",
        "# Evaluate\n",
        "rating_preds = clf.predict(X_test_r)\n",
        "accuracy = accuracy_score(y_test_r, rating_preds)\n",
        "print(f\"Rating Prediction Accuracy: {accuracy:.2f}\")"
      ],
      "metadata": {
        "colab": {
          "base_uri": "https://localhost:8080/"
        },
        "id": "yIyv5fuZ93YJ",
        "outputId": "fae3f0b9-695a-4580-c2aa-32511faa10fd"
      },
      "execution_count": 38,
      "outputs": [
        {
          "output_type": "stream",
          "name": "stdout",
          "text": [
            "Rating Prediction Accuracy: 0.77\n"
          ]
        }
      ]
    },
    {
      "cell_type": "markdown",
      "source": [
        "###**5. Feature Importance**"
      ],
      "metadata": {
        "id": "VimLEYxqAqpu"
      }
    },
    {
      "cell_type": "markdown",
      "source": [
        "- Identify which features most influence sales/ratings.\n",
        "\n",
        "- Guide business decisions (e.g., prioritize high-impact features).\n",
        "\n",
        "**Insight:**\n",
        "\n",
        "1. Item Visibility (most critical for sales)\n",
        "\n",
        "2. Outlet Type_Supermarket Type3 (boosts sales)\n",
        "\n",
        "3. Outlet Age (older outlets perform better)\n",
        "\n"
      ],
      "metadata": {
        "id": "TFZe-uiLDRpY"
      }
    },
    {
      "cell_type": "code",
      "source": [
        "import matplotlib.pyplot as plt\n",
        "\n",
        "# Get feature importance\n",
        "importance = pd.Series(model.feature_importances_, index = X.columns)\n",
        "importance = importance.sort_values(ascending = False)[:10] # Top 10 features\n",
        "\n",
        "# Plot\n",
        "plt.figure(figsize=(10, 5))\n",
        "importance.plot(kind = 'barh')\n",
        "plt.title(\"Top 10 Important Features for Sales Prediction\")\n",
        "plt.show()"
      ],
      "metadata": {
        "colab": {
          "base_uri": "https://localhost:8080/",
          "height": 312
        },
        "id": "h5iDggUW_5Qb",
        "outputId": "f7bbd8d8-2381-4766-fc8a-2914f2a4dcb0"
      },
      "execution_count": 23,
      "outputs": [
        {
          "output_type": "display_data",
          "data": {
            "text/plain": [
              "<Figure size 1000x500 with 1 Axes>"
            ],
            "image/png": "[encoded data removed]"
          },
          "metadata": {}
        }
      ]
    },
    {
      "cell_type": "markdown",
      "source": [
        "###**Hyperparameter Tuning (Optimizing Model Performance)**"
      ],
      "metadata": {
        "id": "lVyE_ru3E2oL"
      }
    },
    {
      "cell_type": "markdown",
      "source": [
        "**For Sales Predictions (Regression)**"
      ],
      "metadata": {
        "id": "ZPnHny8vE_Xk"
      }
    },
    {
      "cell_type": "code",
      "source": [
        "from sklearn.model_selection import GridSearchCV\n",
        "\n",
        "# For Sales Prediction (Regression)\n",
        "param_grid_rf = {\n",
        "    'n_estimators': [50, 100, 200],\n",
        "    'max_depth': [None, 10, 20],\n",
        "    'min_samples_split': [2, 5, 10]\n",
        "}\n",
        "\n",
        "grid_search = GridSearchCV(RandomForestRegressor(), param_grid_rf, cv=5, scoring='neg_mean_squared_error')\n",
        "grid_search.fit(X_train, y_train)\n",
        "print(\"Best parameters for sales prediction:\", grid_search.best_params_)"
      ],
      "metadata": {
        "colab": {
          "base_uri": "https://localhost:8080/"
        },
        "id": "LMiT7Q4tBOSB",
        "outputId": "c72e6ca7-2bf2-49c1-9bfe-d8e4949b27eb"
      },
      "execution_count": 29,
      "outputs": [
        {
          "output_type": "stream",
          "name": "stdout",
          "text": [
            "Best parameters for sales prediction: {'max_depth': None, 'min_samples_split': 2, 'n_estimators': 200}\n"
          ]
        }
      ]
    },
    {
      "cell_type": "markdown",
      "source": [
        "**For Rating Prediction (Classification):**"
      ],
      "metadata": {
        "id": "6eVoel_LGJwQ"
      }
    },
    {
      "cell_type": "code",
      "source": [
        "param_grid_clf = {\n",
        "    'n_estimators': [50, 100, 200],\n",
        "    'max_depth': [None, 5, 10],\n",
        "    'class_weight': [None, 'balanced']\n",
        "}\n",
        "\n",
        "grid_search_clf = GridSearchCV(RandomForestClassifier(), param_grid_clf, cv=5)\n",
        "grid_search_clf.fit(X_train_r, y_train_r)\n",
        "print(\"Best parameters for rating prediction:\", grid_search_clf.best_params_)"
      ],
      "metadata": {
        "colab": {
          "base_uri": "https://localhost:8080/"
        },
        "id": "BQkRr5RlFwRi",
        "outputId": "8c2de496-e5d5-4d5c-ec2b-849d36670e9c"
      },
      "execution_count": 28,
      "outputs": [
        {
          "output_type": "stream",
          "name": "stdout",
          "text": [
            "Best parameters for rating prediction: {'class_weight': None, 'max_depth': 5, 'n_estimators': 50}\n"
          ]
        }
      ]
    },
    {
      "cell_type": "markdown",
      "source": [
        "##**Advanced Model Comparison**"
      ],
      "metadata": {
        "id": "iCu0Bx-JGYGh"
      }
    },
    {
      "cell_type": "markdown",
      "source": [
        "**Why? Random Forest might not be best algorithm for your data.**"
      ],
      "metadata": {
        "id": "BAd3pdVyGfDb"
      }
    },
    {
      "cell_type": "code",
      "source": [
        "from xgboost import XGBRegressor, XGBClassifier\n",
        "from sklearn.linear_model import LinearRegression, LogisticRegression\n",
        "\n",
        "# Sales Prediction Models\n",
        "models = {\n",
        "    'XGBoost': XGBRegressor(),\n",
        "    'Linear Regression': LinearRegression()\n",
        "}\n",
        "\n",
        "for name, model in models.items():\n",
        "    model.fit(X_train, y_train)\n",
        "    preds = model.predict(X_test)\n",
        "    mse = mean_squared_error(y_test, preds)\n",
        "    rmse = math.sqrt(mse)\n",
        "    print(f\"{name} RMSE: {rmse:.2f}\")\n",
        "\n",
        "# Rating Prediction Models\n",
        "clf_models = {\n",
        "    'XGBoost': XGBClassifier(),\n",
        "    'Logistic Regression': LogisticRegression(max_iter=1000)\n",
        "}\n",
        "\n",
        "for name, model in clf_models.items():\n",
        "    model.fit(X_train_r, y_train_r)\n",
        "    acc = accuracy_score(y_test_r, model.predict(X_test_r))\n",
        "    print(f\"{name} Accuracy: {acc:.2f}\")"
      ],
      "metadata": {
        "colab": {
          "base_uri": "https://localhost:8080/"
        },
        "id": "lQK8cmDYF_dg",
        "outputId": "26cd0464-0d92-4f71-b01b-97a366e6b7e9"
      },
      "execution_count": 39,
      "outputs": [
        {
          "output_type": "stream",
          "name": "stdout",
          "text": [
            "XGBoost RMSE: 41.93\n",
            "Linear Regression RMSE: 62.51\n",
            "XGBoost Accuracy: 0.79\n",
            "Logistic Regression Accuracy: 0.80\n"
          ]
        }
      ]
    }
  ]
}